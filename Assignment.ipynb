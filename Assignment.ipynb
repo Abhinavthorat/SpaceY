{
    "cells": [
        {
            "metadata": {
                "collapsed": true
            },
            "cell_type": "markdown",
            "source": "<h1>My Jupyter Notebook on IBM Watson Studio</h1>"
        },
        {
            "metadata": {},
            "cell_type": "markdown",
            "source": "<B>Abhinav</B><br>\n<B>Developer</B>"
        },
        {
            "metadata": {},
            "cell_type": "markdown",
            "source": "<i>I am interested in data science because it's interesting to generate insights and predictions.<i>"
        },
        {
            "metadata": {},
            "cell_type": "markdown",
            "source": "<h3> Addition Program</h3>"
        },
        {
            "metadata": {},
            "cell_type": "code",
            "source": "def add(a,b):\n    return a+b",
            "execution_count": 4,
            "outputs": []
        },
        {
            "metadata": {},
            "cell_type": "code",
            "source": "add(1,2)",
            "execution_count": 5,
            "outputs": [
                {
                    "output_type": "execute_result",
                    "execution_count": 5,
                    "data": {
                        "text/plain": "3"
                    },
                    "metadata": {}
                }
            ]
        },
        {
            "metadata": {},
            "cell_type": "markdown",
            "source": "#### Unordered List\n\n<ul>\n<li>Deployment</li>\n<li>Data Cleaning</li>\n<li>Model Building</li>\n<li>Feature Extraction</li>\n<li>Data Cleaning</li>\n<li>Training Testing</li>\n<li>Data Input</li>\n</ul>\n\n\n#### Ordered List\n\n<ol>\n<li>Data Input</li>\n<li>Data Cleaning</li>\n<li>Feature Extraction</li>\n<li>Model Building</li>\n<li>Training Testing</li>\n<li>Deployment</li>\n</ol>\n\n#### Blocked Quotes\n>IBM Watson Studio\n\n#### Hyperlink\n<href>www.google.com</href>\n"
        },
        {
            "metadata": {},
            "cell_type": "code",
            "source": "",
            "execution_count": null,
            "outputs": []
        }
    ],
    "metadata": {
        "kernelspec": {
            "name": "python3",
            "display_name": "Python 3.8",
            "language": "python"
        },
        "language_info": {
            "name": "python",
            "version": "3.8.11",
            "mimetype": "text/x-python",
            "codemirror_mode": {
                "name": "ipython",
                "version": 3
            },
            "pygments_lexer": "ipython3",
            "nbconvert_exporter": "python",
            "file_extension": ".py"
        }
    },
    "nbformat": 4,
    "nbformat_minor": 1
}